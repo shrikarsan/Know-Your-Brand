{
 "cells": [
  {
   "cell_type": "code",
   "execution_count": null,
   "metadata": {},
   "outputs": [],
   "source": [
    "import os\n",
    "from langchain import OpenAI\n",
    "from langchain.vectorstores import Chroma\n",
    "from langchain.embeddings import OpenAIEmbeddings\n",
    "from langchain_openai import ChatOpenAI\n",
    "from langchain.memory import ConversationSummaryBufferMemory\n",
    "from langchain.utilities import GoogleSearchAPIWrapper\n",
    "from langchain.retrievers.web_research import WebResearchRetriever\n",
    "from langchain.chains import RetrievalQAWithSourcesChain"
   ]
  },
  {
   "cell_type": "code",
   "execution_count": null,
   "metadata": {},
   "outputs": [],
   "source": [
    "from dotenv import load_dotenv;\n",
    "\n",
    "# Load Environment variables\n",
    "load_dotenv()"
   ]
  },
  {
   "cell_type": "code",
   "execution_count": null,
   "metadata": {},
   "outputs": [],
   "source": [
    "# Vectorstore\n",
    "vectorstore = Chroma(embedding_function=OpenAIEmbeddings(), persist_directory=\"./chroma_db_oai\")"
   ]
  },
  {
   "cell_type": "code",
   "execution_count": null,
   "metadata": {},
   "outputs": [],
   "source": [
    "# LLM\n",
    "llm = ChatOpenAI(model_name=\"gpt-3.5-turbo\", temperature=0, streaming=True)\n"
   ]
  },
  {
   "cell_type": "code",
   "execution_count": null,
   "metadata": {},
   "outputs": [],
   "source": [
    "# Memory for Retriever\n",
    "memory = ConversationSummaryBufferMemory(llm=llm, input_key='question', output_key='answer', return_messages=True)"
   ]
  },
  {
   "cell_type": "code",
   "execution_count": null,
   "metadata": {},
   "outputs": [],
   "source": [
    "# Search\n",
    "search = GoogleSearchAPIWrapper()"
   ]
  },
  {
   "cell_type": "code",
   "execution_count": null,
   "metadata": {},
   "outputs": [],
   "source": [
    "# Retriever\n",
    "web_research_retriever = WebResearchRetriever.from_llm(\n",
    "    vectorstore=vectorstore,\n",
    "    llm=llm,\n",
    "    search=search,\n",
    ")"
   ]
  },
  {
   "cell_type": "code",
   "execution_count": null,
   "metadata": {},
   "outputs": [],
   "source": [
    "# Define the User Input\n",
    "# brand = \"CocaCola\"\n",
    "brand = input()\n",
    "\n",
    "# Initialize question-answering chain with sources retrieval\n",
    "qa_chain = RetrievalQAWithSourcesChain.from_chain_type(llm, retriever=web_research_retriever)"
   ]
  },
  {
   "cell_type": "code",
   "execution_count": null,
   "metadata": {},
   "outputs": [],
   "source": [
    "result_introduction = qa_chain({\"question\": f\"Write an introduction to {brand}\"})\n",
    "print(result_introduction[\"answer\"])\n",
    "print(result_introduction[\"sources\"])"
   ]
  },
  {
   "cell_type": "code",
   "execution_count": null,
   "metadata": {},
   "outputs": [],
   "source": [
    "# Query the QA chain with the user input question\n",
    "result_history = qa_chain({\"question\": f\"Explain the History of {brand} in detail\"})\n",
    "print(result_history[\"answer\"])\n",
    "print(result_history[\"sources\"])"
   ]
  },
  {
   "cell_type": "code",
   "execution_count": null,
   "metadata": {},
   "outputs": [],
   "source": [
    "result_demographics = qa_chain({\"question\": f\"Explain the Demographics of {brand} in detail\"})\n",
    "print(result_demographics[\"answer\"])\n",
    "print(result_demographics[\"sources\"])"
   ]
  },
  {
   "cell_type": "code",
   "execution_count": null,
   "metadata": {},
   "outputs": [],
   "source": [
    "result_social_presence = qa_chain({\"question\": f\"Explain the Social presence of {brand} in detail\"})\n",
    "print(result_social_presence[\"answer\"])\n",
    "print(result_social_presence[\"sources\"])"
   ]
  },
  {
   "cell_type": "code",
   "execution_count": null,
   "metadata": {},
   "outputs": [],
   "source": [
    "result_market_activity  = qa_chain({\"question\": f\"Explain the Market Activity  of {brand}\"})\n",
    "print(result_market_activity[\"answer\"])\n",
    "print(result_market_activity[\"sources\"])"
   ]
  },
  {
   "cell_type": "code",
   "execution_count": null,
   "metadata": {},
   "outputs": [],
   "source": [
    "# Create a Markdown file Article\n",
    "\n",
    "from mdutils.mdutils import MdUtils\n",
    "from mdutils import Html\n",
    "md = MdUtils(file_name=f\"output/{brand}\")\n",
    "md.new_header(level=1, title=f\"{brand}\")\n",
    "md.new_paragraph(f'{result_introduction[\"answer\"]}\\n')\n",
    "md.new_header(level=2, title=\"History\")\n",
    "md.new_paragraph(f'{result_history[\"answer\"]}\\n')\n",
    "md.new_header(level=2, title=\"Demographics\")\n",
    "md.new_paragraph(f'{result_demographics[\"answer\"]}\\n')\n",
    "md.new_header(level=2, title=\"Social presence\")\n",
    "md.new_paragraph(f'{result_social_presence[\"answer\"]}\\n')\n",
    "md.new_header(level=2, title=\"Market activity\")\n",
    "md.new_paragraph(f'{result_market_activity[\"answer\"]}\\n')\n",
    "md.new_header(level=2, title=\"Reference Articles\")\n",
    "references = result_introduction[\"sources\"].split(',')\n",
    "references.extend(result_history[\"sources\"].split(','))\n",
    "references.extend(result_demographics[\"sources\"].split(','))\n",
    "references.extend(result_social_presence[\"sources\"].split(','))\n",
    "references.extend(result_market_activity[\"sources\"].split(','))\n",
    "md.new_list(references)\n",
    "md.create_md_file()"
   ]
  },
  {
   "cell_type": "code",
   "execution_count": null,
   "metadata": {},
   "outputs": [],
   "source": [
    "from md2pdf.core import md2pdf\n",
    "\n",
    "markdown_file = f\"output/{brand}.md\"\n",
    "output_pdf = f\"output/{brand}.pdf\"\n",
    "\n",
    "md2pdf(pdf_file_path=output_pdf, css_file_path=\"md.css\", md_file_path=markdown_file)\n"
   ]
  }
 ],
 "metadata": {
  "kernelspec": {
   "display_name": "venv",
   "language": "python",
   "name": "python3"
  },
  "language_info": {
   "codemirror_mode": {
    "name": "ipython",
    "version": 3
   },
   "file_extension": ".py",
   "mimetype": "text/x-python",
   "name": "python",
   "nbconvert_exporter": "python",
   "pygments_lexer": "ipython3",
   "version": "3.10.11"
  },
  "orig_nbformat": 4
 },
 "nbformat": 4,
 "nbformat_minor": 2
}
