{
 "cells": [
  {
   "cell_type": "code",
   "execution_count": 18,
   "metadata": {},
   "outputs": [],
   "source": [
    "import os\n",
    "from langchain import OpenAI\n",
    "from langchain.vectorstores import Chroma\n",
    "from langchain.embeddings import OpenAIEmbeddings\n",
    "from langchain_openai import ChatOpenAI\n",
    "from langchain.memory import ConversationSummaryBufferMemory\n",
    "from langchain.utilities import GoogleSearchAPIWrapper\n",
    "from langchain.retrievers.web_research import WebResearchRetriever\n",
    "from langchain.chains import RetrievalQAWithSourcesChain"
   ]
  },
  {
   "cell_type": "code",
   "execution_count": 5,
   "metadata": {},
   "outputs": [
    {
     "data": {
      "text/plain": [
       "True"
      ]
     },
     "execution_count": 5,
     "metadata": {},
     "output_type": "execute_result"
    }
   ],
   "source": [
    "from dotenv import load_dotenv;\n",
    "\n",
    "# Load Environment variables\n",
    "load_dotenv()"
   ]
  },
  {
   "cell_type": "code",
   "execution_count": 9,
   "metadata": {},
   "outputs": [],
   "source": [
    "# Vectorstore\n",
    "vectorstore = Chroma(embedding_function=OpenAIEmbeddings(), persist_directory=\"./chroma_db_oai\")"
   ]
  },
  {
   "cell_type": "code",
   "execution_count": 16,
   "metadata": {},
   "outputs": [],
   "source": [
    "# LLM\n",
    "llm = ChatOpenAI(model_name=\"gpt-3.5-turbo\", temperature=0, streaming=True)\n"
   ]
  },
  {
   "cell_type": "code",
   "execution_count": 19,
   "metadata": {},
   "outputs": [],
   "source": [
    "# Memory for Retriever\n",
    "memory = ConversationSummaryBufferMemory(llm=llm, input_key='question', output_key='answer', return_messages=True)"
   ]
  },
  {
   "cell_type": "code",
   "execution_count": 21,
   "metadata": {},
   "outputs": [],
   "source": [
    "# Search\n",
    "search = GoogleSearchAPIWrapper()"
   ]
  },
  {
   "cell_type": "code",
   "execution_count": 22,
   "metadata": {},
   "outputs": [],
   "source": [
    "# Retriever\n",
    "web_research_retriever = WebResearchRetriever.from_llm(\n",
    "    vectorstore=vectorstore,\n",
    "    llm=llm,\n",
    "    search=search,\n",
    ")"
   ]
  },
  {
   "cell_type": "code",
   "execution_count": 80,
   "metadata": {},
   "outputs": [],
   "source": [
    "# Define the User Input\n",
    "# brand = \"CocaCola\"\n",
    "brand = input()\n",
    "\n",
    "# Initialize question-answering chain with sources retrieval\n",
    "qa_chain = RetrievalQAWithSourcesChain.from_chain_type(llm, retriever=web_research_retriever)"
   ]
  },
  {
   "cell_type": "code",
   "execution_count": 83,
   "metadata": {},
   "outputs": [
    {
     "name": "stderr",
     "output_type": "stream",
     "text": [
      "Fetching pages: 100%|##########| 2/2 [00:00<00:00,  3.02it/s]\n"
     ]
    },
    {
     "name": "stdout",
     "output_type": "stream",
     "text": [
      "Coca-Cola, or Coke, is a carbonated soft drink with a cola flavor manufactured by the Coca-Cola Company. In 2013, Coke products were sold in over 200 countries worldwide, with consumers drinking more than 1.8 billion company beverage servings each day. Coca-Cola ranked No. 87 in the 2018 Fortune 500 list of the largest United States corporations by total revenue. Based on Interbrand's \"best global brand\" study of 2020, Coca-Cola was the world's sixth most valuable brand. The company has a diverse product portfolio, including carbonated soft drinks, juices, teas, and bottled water, and has a strong focus on corporate social responsibility, sustainability, and community engagement. Coca-Cola has maintained a consistent brand image, emotional branding, storytelling, and a strong global marketing strategy to connect with consumers and maintain brand loyalty.\n",
      "\n",
      "https://en.wikipedia.org/wiki/Coca-Cola, https://voymedia.com/coca-cola-marketing-strategy/\n"
     ]
    }
   ],
   "source": [
    "result_introduction = qa_chain({\"question\": f\"Write an introduction to {brand}\"})\n",
    "print(result_introduction[\"answer\"])\n",
    "print(result_introduction[\"sources\"])"
   ]
  },
  {
   "cell_type": "code",
   "execution_count": 39,
   "metadata": {},
   "outputs": [
    {
     "name": "stdout",
     "output_type": "stream",
     "text": [
      "The Coca-Cola Company was founded in 1886 in Atlanta, Georgia. Since then, the company now sells more than 1.9 billion beverages in more than 200 countries around the world daily. The company has seen many changes over the years, from using coupons for free drinks to raise interest in the product to being ranked sixth as the world's most valuable brand in 2020. Coca-Cola has managed to retain its popularity and keep up with the times while still remaining entrenched in nostalgia.\n",
      "\n",
      "https://www.investopedia.com/financial-edge/1012/the-evolution-of-the-coca-cola-brand.aspx\n"
     ]
    }
   ],
   "source": [
    "# Query the QA chain with the user input question\n",
    "result_history = qa_chain({\"question\": f\"Explain the History of {brand} in detail\"})\n",
    "print(result_history[\"answer\"])\n",
    "print(result_history[\"sources\"])"
   ]
  },
  {
   "cell_type": "code",
   "execution_count": 40,
   "metadata": {},
   "outputs": [
    {
     "name": "stderr",
     "output_type": "stream",
     "text": [
      "Fetching pages: 100%|##########| 3/3 [00:01<00:00,  1.59it/s]\n"
     ]
    },
    {
     "name": "stdout",
     "output_type": "stream",
     "text": [
      "Coca-Cola's demographic segmentation includes a broad age range of younger to mid-life consumers, from 10 to 40 years old. The geographic segmentation of Coca-Cola's target audience is located all over the world. The behavioral segmentation shows that the target audience consumes the product regularly. The psychographic segmentation of Coca-Cola's target audience includes a wide socio-economic breakdown. The company targets young people between 10 and 35, middle-aged and older adults, and individuals based on gender. Coca-Cola sells its products globally and targets different cultures, customs, and climates. The largest age group in terms of Coca-Cola consumption is ages 35-44.\n",
      "\n",
      "https://www.start.io/blog/coca-cola-target-market-segmentation-customer-analysis-marketing-strategy/, https://www.simplilearn.com/tutorials/marketing-case-studies-tutorial/coca-cola-marketing-strategy\n"
     ]
    }
   ],
   "source": [
    "result_demographics = qa_chain({\"question\": f\"Explain the Demographics of {brand} in detail\"})\n",
    "print(result_demographics[\"answer\"])\n",
    "print(result_demographics[\"sources\"])"
   ]
  },
  {
   "cell_type": "code",
   "execution_count": 43,
   "metadata": {},
   "outputs": [
    {
     "name": "stderr",
     "output_type": "stream",
     "text": [
      "Fetching pages: 100%|##########| 2/2 [00:03<00:00,  1.95s/it]\n"
     ]
    },
    {
     "name": "stdout",
     "output_type": "stream",
     "text": [
      "Coca-Cola has a strong social media presence across various platforms including Facebook, Twitter, Instagram, and YouTube. They actively engage with their audience, respond to inquiries, create interactive experiences, and run promotional campaigns. Coca-Cola also prioritizes customer engagement, community building, real-time marketing, and user-generated content to strengthen brand loyalty and advocacy. Their social media strategy focuses on creating engaging content, interacting with the audience, and supporting social causes, showcasing a commitment to more than just profit. \n",
      "\n",
      "https://keyhole.co/blog/coca-cola-social-media-strategy/, https://voymedia.com/coca-cola-marketing-strategy/\n"
     ]
    }
   ],
   "source": [
    "result_social_presence = qa_chain({\"question\": f\"Explain the Social presence of {brand} in detail\"})\n",
    "print(result_social_presence[\"answer\"])\n",
    "print(result_social_presence[\"sources\"])"
   ]
  },
  {
   "cell_type": "code",
   "execution_count": 47,
   "metadata": {},
   "outputs": [
    {
     "name": "stdout",
     "output_type": "stream",
     "text": [
      "Coca-Cola was the top carbonated soft drink company in the US in 2020, with a volume share of 44.9%. Their marketing strategy focuses on selling a lifestyle promise rather than just a product, and they use a vast, multi-channel approach. Coca-Cola also engages in real-time marketing on social media platforms and prioritizes customer engagement and community building. They have a diverse product portfolio and emphasize corporate social responsibility in their marketing strategy.\n",
      "\n",
      "https://www.start.io/blog/coca-cola-target-market-segmentation-customer-analysis-marketing-strategy/, https://voymedia.com/coca-cola-marketing-strategy/, https://keyhole.co/blog/coca-cola-social-media-strategy/, https://www.investopedia.com/financial-edge/1012/the-evolution-of-the-coca-cola-brand.aspx\n"
     ]
    }
   ],
   "source": [
    "result_market_activity  = qa_chain({\"question\": f\"Explain the Market Activity  of {brand}\"})\n",
    "print(result_market_activity[\"answer\"])\n",
    "print(result_market_activity[\"sources\"])"
   ]
  },
  {
   "cell_type": "code",
   "execution_count": 87,
   "metadata": {},
   "outputs": [
    {
     "data": {
      "text/plain": [
       "<mdutils.fileutils.fileutils.MarkDownFile at 0x71f8db8466e0>"
      ]
     },
     "execution_count": 87,
     "metadata": {},
     "output_type": "execute_result"
    }
   ],
   "source": [
    "# Create a Markdown file Article\n",
    "\n",
    "from mdutils.mdutils import MdUtils\n",
    "from mdutils import Html\n",
    "md = MdUtils(file_name=f\"{brand}\")\n",
    "md.new_header(level=1, title=f\"{brand}\")\n",
    "md.new_paragraph(f'{result_introduction[\"answer\"]}\\n')\n",
    "md.new_header(level=2, title=\"History\")\n",
    "md.new_paragraph(f'{result_history[\"answer\"]}\\n')\n",
    "md.new_header(level=2, title=\"Demographics\")\n",
    "md.new_paragraph(f'{result_demographics[\"answer\"]}\\n')\n",
    "md.new_header(level=2, title=\"Social presence\")\n",
    "md.new_paragraph(f'{result_social_presence[\"answer\"]}\\n')\n",
    "md.new_header(level=2, title=\"Market activity\")\n",
    "md.new_paragraph(f'{result_market_activity[\"answer\"]}\\n')\n",
    "md.new_header(level=2, title=\"Reference Articles\")\n",
    "references = result_introduction[\"sources\"].split(',')\n",
    "references.extend(result_history[\"sources\"].split(','))\n",
    "references.extend(result_demographics[\"sources\"].split(','))\n",
    "references.extend(result_social_presence[\"sources\"].split(','))\n",
    "references.extend(result_market_activity[\"sources\"].split(','))\n",
    "md.new_list(references)\n",
    "md.create_md_file()"
   ]
  },
  {
   "cell_type": "code",
   "execution_count": 4,
   "metadata": {},
   "outputs": [],
   "source": [
    "from md2pdf.core import md2pdf\n",
    "\n",
    "markdown_file = f\"output/{brand}.md\"\n",
    "output_pdf = f\"output/{brand}.pdf\"\n",
    "\n",
    "# md2pdf(output_pdf,\n",
    "#        md=markdown_file,\n",
    "#        raw=None,\n",
    "#        css=\"md.css\",\n",
    "#        base_url=None,\n",
    "#        extras=[],\n",
    "# )\n",
    "md2pdf(pdf_file_path=output_pdf, css_file_path=\"md.css\", md_file_path=markdown_file)\n"
   ]
  }
 ],
 "metadata": {
  "kernelspec": {
   "display_name": "venv",
   "language": "python",
   "name": "python3"
  },
  "language_info": {
   "codemirror_mode": {
    "name": "ipython",
    "version": 3
   },
   "file_extension": ".py",
   "mimetype": "text/x-python",
   "name": "python",
   "nbconvert_exporter": "python",
   "pygments_lexer": "ipython3",
   "version": "3.10.11"
  },
  "orig_nbformat": 4
 },
 "nbformat": 4,
 "nbformat_minor": 2
}
